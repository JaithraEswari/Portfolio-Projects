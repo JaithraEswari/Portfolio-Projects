{
 "cells": [
  {
   "cell_type": "markdown",
   "metadata": {},
   "source": [
    "# Amazon Web Scraping Computer Monitors"
   ]
  },
  {
   "cell_type": "code",
   "execution_count": 12,
   "metadata": {},
   "outputs": [],
   "source": [
    "import requests\n",
    "from bs4 import BeautifulSoup\n",
    "import pandas as pd\n",
    "from tqdm import tqdm\n",
    "from selenium import webdriver\n",
    "from selenium.webdriver.common.by import By"
   ]
  },
  {
   "cell_type": "code",
   "execution_count": 13,
   "metadata": {},
   "outputs": [],
   "source": [
    "base_URL = \"https://www.amazon.in/s?i=computers&rh=n%3A1375425031%2Cp_n_feature_twenty-one_browse-bin%3A65987097031%7C65987099031%7C65987100031%7C65987101031%7C65987102031%7C65987104031%7C65987105031&dc&fs=true&qid=1713963213&rnid=65987095031&ref=sr_pg_1\"\n",
    "my_header = {\"User-Agent\": \"Mozilla/5.0 (Windows NT 10.0; Win64; x64) AppleWebKit/537.36 (KHTML, like Gecko) Chrome/124.0.0.0 Safari/537.36 Edg/124.0.0.0\"}"
   ]
  },
  {
   "cell_type": "code",
   "execution_count": 14,
   "metadata": {},
   "outputs": [],
   "source": [
    "response = requests.get(base_URL, headers = my_header)\n",
    "soup = BeautifulSoup(response.text, 'html.parser')"
   ]
  },
  {
   "cell_type": "code",
   "execution_count": 15,
   "metadata": {},
   "outputs": [],
   "source": [
    "product_name_list = []\n",
    "product_price_list = []\n",
    "product_mrp_price_list = []\n",
    "review_count_list = []\n",
    "ratings_list = []\n",
    "link_list = []"
   ]
  },
  {
   "cell_type": "code",
   "execution_count": 16,
   "metadata": {},
   "outputs": [],
   "source": [
    "product_name = soup.find_all(class_ = \"a-size-base-plus\")\n",
    "for name in product_name:\n",
    "    product_name_list.append(name.get_text())"
   ]
  },
  {
   "cell_type": "code",
   "execution_count": 17,
   "metadata": {},
   "outputs": [],
   "source": [
    "product_price = soup.select(\"div.a-section.a-spacing-base\")\n",
    "for item_price in product_price:\n",
    "    span = item_price.select_one(\"span.a-price-whole\")\n",
    "    if span is None:\n",
    "        product_price_list.append('Does not exist')\n",
    "    else:\n",
    "        product_price_list.append(span.get_text())"
   ]
  },
  {
   "cell_type": "code",
   "execution_count": 18,
   "metadata": {},
   "outputs": [
    {
     "name": "stdout",
     "output_type": "stream",
     "text": [
      "['M.R.P: ₹22,990₹22,990', 'M.R.P: ₹53,990₹53,990', 'M.R.P: ₹41,990₹41,990', 'M.R.P: ₹17,000₹17,000', 'M.R.P: ₹9,499₹9,499', 'M.R.P: ₹23,000₹23,000', 'M.R.P: ₹6,999₹6,999', 'M.R.P: ₹16,500₹16,500', 'M.R.P: ₹19,999₹19,999', 'M.R.P: ₹8,000₹8,000', 'M.R.P: ₹13,990₹13,990', 'M.R.P: ₹18,000₹18,000', 'M.R.P: ₹13,990₹13,990', 'M.R.P: ₹4,999₹4,999', 'M.R.P: ₹23,999₹23,999', 'M.R.P: ₹29,999₹29,999', 'M.R.P: ₹34,629₹34,629', 'M.R.P: ₹10,999₹10,999', 'M.R.P: ₹33,989₹33,989', 'M.R.P: ₹19,180₹19,180', 'M.R.P: ₹16,500₹16,500', 'M.R.P: ₹36,000₹36,000', 'M.R.P: ₹12,790₹12,790', 'M.R.P: ₹49,500₹49,500', 'M.R.P: ₹24,999₹24,999', 'M.R.P: ₹22,999₹22,999', 'Does not exist', 'M.R.P: ₹26,000₹26,000', 'M.R.P: ₹20,490₹20,490', 'M.R.P: ₹25,000₹25,000', 'M.R.P: ₹29,999₹29,999', 'M.R.P: ₹24,999₹24,999']\n"
     ]
    }
   ],
   "source": [
    "mrp_price = soup.select(\"div.a-section.a-spacing-base\")\n",
    "for price in mrp_price: \n",
    "    span = price.select_one(\"div.a-section.aok-inline-block\")\n",
    "    if span is None:\n",
    "        product_mrp_price_list.append('Does not exist')\n",
    "    else:\n",
    "        product_mrp_price_list.append(span.get_text())"
   ]
  },
  {
   "cell_type": "code",
   "execution_count": 19,
   "metadata": {},
   "outputs": [],
   "source": [
    "ratings = soup.select(\"div.a-section.a-spacing-base\")\n",
    "for rating in ratings:\n",
    "    span = rating.select_one(\"span.a-icon-alt\")\n",
    "    if span is None:\n",
    "        ratings_list.append('Does not exist')\n",
    "    elif span.get_text() != '4 Stars & Up' and span.get_text() != '3 Stars & Up' and span.get_text() != '2 Stars & Up' and span.get_text() != '1 Star & Up':\n",
    "        ratings_list.append(span.get_text())"
   ]
  },
  {
   "cell_type": "code",
   "execution_count": 20,
   "metadata": {},
   "outputs": [],
   "source": [
    "review_count = soup.select(\"div.a-section.a-spacing-base\")\n",
    "for count in review_count:\n",
    "    span = count.select_one(\"span.a-size-base.s-underline-text\")\n",
    "    if span is None:\n",
    "        review_count_list.append('Does not exist')\n",
    "    else:\n",
    "        review_count_list.append(span.get_text())"
   ]
  },
  {
   "cell_type": "code",
   "execution_count": 21,
   "metadata": {},
   "outputs": [
    {
     "name": "stdout",
     "output_type": "stream",
     "text": [
      "['/sspa/click?ie=UTF8&spc=MToxOTgwOTAxNDc1NTQzMTE1OjE3MTQwNTA0NDE6c3BfYXRmX2Jyb3dzZTozMDAxMTkyNDYyMDc3MzI6OjA6Og&url=%2FPHILIPS-271V8-94-Adjustable-Mountable%2Fdp%2FB07YWP5NMC%2Fref%3Dsr_1_1_sspa%3Fdib%3DeyJ2IjoiMSJ9.v_fUT26kBycx3v5jOpt6pF6ywa_5X82yb29qWCtwIUPKBHg78bDztW_Y-vKNxvpkRbffusktysmI_eYN7ycRdYIfQNu_-W7aEILW-E7DF9Ypn3JGxMymSX2W_AVuOApw8p-cbEvkrAm2WVITL73m7TCRgdlbT8tobqBmVkZxuzZ7XSLYgyBF6GNc0DDhZF6nvUb5uHEX_wm_QI-KjzFcnmDKGLrc9Wos9jnZaZqnyOwGT0_BitC-4JvYhPgMBfzrBPMOrtgKMXm3VO2L1CqsBHBXPNCBRzKLi5w8Yo0GHyA.MIo2gmHGTqlwXGp3dBcFLFBLZVczPS458PZ7JwqW-8o%26dib_tag%3Dse%26qid%3D1714050441%26refinements%3Dp_n_feature_twenty-one_browse-bin%253A65987097031%257C65987099031%257C65987100031%257C65987101031%257C65987102031%257C65987104031%257C65987105031%26rnid%3D65987095031%26s%3Dcomputers%26sr%3D1-1-spons%26sp_csd%3Dd2lkZ2V0TmFtZT1zcF9hdGZfYnJvd3Nl%26psc%3D1', '/sspa/click?ie=UTF8&spc=MToxOTgwOTAxNDc1NTQzMTE1OjE3MTQwNTA0NDE6c3BfYXRmX2Jyb3dzZTozMDAxMTkyNDYyMDc2MzI6OjA6Og&url=%2FPHILIPS-276E8VJSB-Ultranarrow-Multiview-94%2Fdp%2FB092DDWT5F%2Fref%3Dsr_1_2_sspa%3Fdib%3DeyJ2IjoiMSJ9.v_fUT26kBycx3v5jOpt6pF6ywa_5X82yb29qWCtwIUPKBHg78bDztW_Y-vKNxvpkRbffusktysmI_eYN7ycRdYIfQNu_-W7aEILW-E7DF9Ypn3JGxMymSX2W_AVuOApw8p-cbEvkrAm2WVITL73m7TCRgdlbT8tobqBmVkZxuzZ7XSLYgyBF6GNc0DDhZF6nvUb5uHEX_wm_QI-KjzFcnmDKGLrc9Wos9jnZaZqnyOwGT0_BitC-4JvYhPgMBfzrBPMOrtgKMXm3VO2L1CqsBHBXPNCBRzKLi5w8Yo0GHyA.MIo2gmHGTqlwXGp3dBcFLFBLZVczPS458PZ7JwqW-8o%26dib_tag%3Dse%26qid%3D1714050441%26refinements%3Dp_n_feature_twenty-one_browse-bin%253A65987097031%257C65987099031%257C65987100031%257C65987101031%257C65987102031%257C65987104031%257C65987105031%26rnid%3D65987095031%26s%3Dcomputers%26sr%3D1-2-spons%26sp_csd%3Dd2lkZ2V0TmFtZT1zcF9hdGZfYnJvd3Nl%26psc%3D1', '/sspa/click?ie=UTF8&spc=MToxOTgwOTAxNDc1NTQzMTE1OjE3MTQwNTA0NDE6c3BfYXRmX2Jyb3dzZTozMDAxMjMxMTU1MjQyMzI6OjA6Og&url=%2FPHILIPS-Monitor-Picture-325E8-94%2Fdp%2FB096XD1QF7%2Fref%3Dsr_1_3_sspa%3Fdib%3DeyJ2IjoiMSJ9.v_fUT26kBycx3v5jOpt6pF6ywa_5X82yb29qWCtwIUPKBHg78bDztW_Y-vKNxvpkRbffusktysmI_eYN7ycRdYIfQNu_-W7aEILW-E7DF9Ypn3JGxMymSX2W_AVuOApw8p-cbEvkrAm2WVITL73m7TCRgdlbT8tobqBmVkZxuzZ7XSLYgyBF6GNc0DDhZF6nvUb5uHEX_wm_QI-KjzFcnmDKGLrc9Wos9jnZaZqnyOwGT0_BitC-4JvYhPgMBfzrBPMOrtgKMXm3VO2L1CqsBHBXPNCBRzKLi5w8Yo0GHyA.MIo2gmHGTqlwXGp3dBcFLFBLZVczPS458PZ7JwqW-8o%26dib_tag%3Dse%26qid%3D1714050441%26refinements%3Dp_n_feature_twenty-one_browse-bin%253A65987097031%257C65987099031%257C65987100031%257C65987101031%257C65987102031%257C65987104031%257C65987105031%26rnid%3D65987095031%26s%3Dcomputers%26sr%3D1-3-spons%26sp_csd%3Dd2lkZ2V0TmFtZT1zcF9hdGZfYnJvd3Nl%26psc%3D1', '/Samsung-24-inch-60-46cm-FreeSync-LS24C310EAWXXL/dp/B0C8MTWMK2/ref=sr_1_4?dib=eyJ2IjoiMSJ9.v_fUT26kBycx3v5jOpt6pF6ywa_5X82yb29qWCtwIUPKBHg78bDztW_Y-vKNxvpkRbffusktysmI_eYN7ycRdYIfQNu_-W7aEILW-E7DF9Ypn3JGxMymSX2W_AVuOApw8p-cbEvkrAm2WVITL73m7TCRgdlbT8tobqBmVkZxuzZ7XSLYgyBF6GNc0DDhZF6nvUb5uHEX_wm_QI-KjzFcnmDKGLrc9Wos9jnZaZqnyOwGT0_BitC-4JvYhPgMBfzrBPMOrtgKMXm3VO2L1CqsBHBXPNCBRzKLi5w8Yo0GHyA.MIo2gmHGTqlwXGp3dBcFLFBLZVczPS458PZ7JwqW-8o&dib_tag=se&qid=1714050441&refinements=p_n_feature_twenty-one_browse-bin%3A65987097031%7C65987099031%7C65987100031%7C65987101031%7C65987102031%7C65987104031%7C65987105031&rnid=65987095031&s=computers&sr=1-4', '/Acer-1920x1080-Backlit-Monitor-Features/dp/B0CRTM89BT/ref=sr_1_5?dib=eyJ2IjoiMSJ9.v_fUT26kBycx3v5jOpt6pF6ywa_5X82yb29qWCtwIUPKBHg78bDztW_Y-vKNxvpkRbffusktysmI_eYN7ycRdYIfQNu_-W7aEILW-E7DF9Ypn3JGxMymSX2W_AVuOApw8p-cbEvkrAm2WVITL73m7TCRgdlbT8tobqBmVkZxuzZ7XSLYgyBF6GNc0DDhZF6nvUb5uHEX_wm_QI-KjzFcnmDKGLrc9Wos9jnZaZqnyOwGT0_BitC-4JvYhPgMBfzrBPMOrtgKMXm3VO2L1CqsBHBXPNCBRzKLi5w8Yo0GHyA.MIo2gmHGTqlwXGp3dBcFLFBLZVczPS458PZ7JwqW-8o&dib_tag=se&qid=1714050441&refinements=p_n_feature_twenty-one_browse-bin%3A65987097031%7C65987099031%7C65987100031%7C65987101031%7C65987102031%7C65987104031%7C65987105031&rnid=65987095031&s=computers&sr=1-5', '/LG-Ultragear-Monitor-FreeSync-Compatible-24GN65R/dp/B0C5MPH9G7/ref=sr_1_6?dib=eyJ2IjoiMSJ9.v_fUT26kBycx3v5jOpt6pF6ywa_5X82yb29qWCtwIUPKBHg78bDztW_Y-vKNxvpkRbffusktysmI_eYN7ycRdYIfQNu_-W7aEILW-E7DF9Ypn3JGxMymSX2W_AVuOApw8p-cbEvkrAm2WVITL73m7TCRgdlbT8tobqBmVkZxuzZ7XSLYgyBF6GNc0DDhZF6nvUb5uHEX_wm_QI-KjzFcnmDKGLrc9Wos9jnZaZqnyOwGT0_BitC-4JvYhPgMBfzrBPMOrtgKMXm3VO2L1CqsBHBXPNCBRzKLi5w8Yo0GHyA.MIo2gmHGTqlwXGp3dBcFLFBLZVczPS458PZ7JwqW-8o&dib_tag=se&qid=1714050441&refinements=p_n_feature_twenty-one_browse-bin%3A65987097031%7C65987099031%7C65987100031%7C65987101031%7C65987102031%7C65987104031%7C65987105031&rnid=65987095031&s=computers&sr=1-6', '/ZEBRONICS-ZEB-V19HD-LED-Supporting-Mountable/dp/B09GG4FT99/ref=sr_1_7?dib=eyJ2IjoiMSJ9.v_fUT26kBycx3v5jOpt6pF6ywa_5X82yb29qWCtwIUPKBHg78bDztW_Y-vKNxvpkRbffusktysmI_eYN7ycRdYIfQNu_-W7aEILW-E7DF9Ypn3JGxMymSX2W_AVuOApw8p-cbEvkrAm2WVITL73m7TCRgdlbT8tobqBmVkZxuzZ7XSLYgyBF6GNc0DDhZF6nvUb5uHEX_wm_QI-KjzFcnmDKGLrc9Wos9jnZaZqnyOwGT0_BitC-4JvYhPgMBfzrBPMOrtgKMXm3VO2L1CqsBHBXPNCBRzKLi5w8Yo0GHyA.MIo2gmHGTqlwXGp3dBcFLFBLZVczPS458PZ7JwqW-8o&dib_tag=se&qid=1714050441&refinements=p_n_feature_twenty-one_browse-bin%3A65987097031%7C65987099031%7C65987100031%7C65987101031%7C65987102031%7C65987104031%7C65987105031&rnid=65987095031&s=computers&sr=1-7', '/Samsung-24-inch-Monitor-FreeSync-LS24C360EAWXXL/dp/B0C4YMKNNZ/ref=sr_1_8?dib=eyJ2IjoiMSJ9.v_fUT26kBycx3v5jOpt6pF6ywa_5X82yb29qWCtwIUPKBHg78bDztW_Y-vKNxvpkRbffusktysmI_eYN7ycRdYIfQNu_-W7aEILW-E7DF9Ypn3JGxMymSX2W_AVuOApw8p-cbEvkrAm2WVITL73m7TCRgdlbT8tobqBmVkZxuzZ7XSLYgyBF6GNc0DDhZF6nvUb5uHEX_wm_QI-KjzFcnmDKGLrc9Wos9jnZaZqnyOwGT0_BitC-4JvYhPgMBfzrBPMOrtgKMXm3VO2L1CqsBHBXPNCBRzKLi5w8Yo0GHyA.MIo2gmHGTqlwXGp3dBcFLFBLZVczPS458PZ7JwqW-8o&dib_tag=se&qid=1714050441&refinements=p_n_feature_twenty-one_browse-bin%3A65987097031%7C65987099031%7C65987100031%7C65987101031%7C65987102031%7C65987104031%7C65987105031&rnid=65987095031&s=computers&sr=1-8', '/OnePlus-24-connectivity-Charging-Response/dp/B0BTLYLWTQ/ref=sr_1_9?dib=eyJ2IjoiMSJ9.v_fUT26kBycx3v5jOpt6pF6ywa_5X82yb29qWCtwIUPKBHg78bDztW_Y-vKNxvpkRbffusktysmI_eYN7ycRdYIfQNu_-W7aEILW-E7DF9Ypn3JGxMymSX2W_AVuOApw8p-cbEvkrAm2WVITL73m7TCRgdlbT8tobqBmVkZxuzZ7XSLYgyBF6GNc0DDhZF6nvUb5uHEX_wm_QI-KjzFcnmDKGLrc9Wos9jnZaZqnyOwGT0_BitC-4JvYhPgMBfzrBPMOrtgKMXm3VO2L1CqsBHBXPNCBRzKLi5w8Yo0GHyA.MIo2gmHGTqlwXGp3dBcFLFBLZVczPS458PZ7JwqW-8o&dib_tag=se&qid=1714050441&refinements=p_n_feature_twenty-one_browse-bin%3A65987097031%7C65987099031%7C65987100031%7C65987101031%7C65987102031%7C65987104031%7C65987105031&rnid=65987095031&s=computers&sr=1-9', '/FRONTECH-Monitor-Refresh-Mountable-MON-0054/dp/B0C5RWGPF7/ref=sr_1_10?dib=eyJ2IjoiMSJ9.v_fUT26kBycx3v5jOpt6pF6ywa_5X82yb29qWCtwIUPKBHg78bDztW_Y-vKNxvpkRbffusktysmI_eYN7ycRdYIfQNu_-W7aEILW-E7DF9Ypn3JGxMymSX2W_AVuOApw8p-cbEvkrAm2WVITL73m7TCRgdlbT8tobqBmVkZxuzZ7XSLYgyBF6GNc0DDhZF6nvUb5uHEX_wm_QI-KjzFcnmDKGLrc9Wos9jnZaZqnyOwGT0_BitC-4JvYhPgMBfzrBPMOrtgKMXm3VO2L1CqsBHBXPNCBRzKLi5w8Yo0GHyA.MIo2gmHGTqlwXGp3dBcFLFBLZVczPS458PZ7JwqW-8o&dib_tag=se&qid=1714050441&refinements=p_n_feature_twenty-one_browse-bin%3A65987097031%7C65987099031%7C65987100031%7C65987101031%7C65987102031%7C65987104031%7C65987105031&rnid=65987095031&s=computers&sr=1-10', '/BenQ-GW2490-Bezel-less-Brightness-Intelligence/dp/B0CQ2VKBMH/ref=sr_1_11?dib=eyJ2IjoiMSJ9.v_fUT26kBycx3v5jOpt6pF6ywa_5X82yb29qWCtwIUPKBHg78bDztW_Y-vKNxvpkRbffusktysmI_eYN7ycRdYIfQNu_-W7aEILW-E7DF9Ypn3JGxMymSX2W_AVuOApw8p-cbEvkrAm2WVITL73m7TCRgdlbT8tobqBmVkZxuzZ7XSLYgyBF6GNc0DDhZF6nvUb5uHEX_wm_QI-KjzFcnmDKGLrc9Wos9jnZaZqnyOwGT0_BitC-4JvYhPgMBfzrBPMOrtgKMXm3VO2L1CqsBHBXPNCBRzKLi5w8Yo0GHyA.MIo2gmHGTqlwXGp3dBcFLFBLZVczPS458PZ7JwqW-8o&dib_tag=se&qid=1714050441&refinements=p_n_feature_twenty-one_browse-bin%3A65987097031%7C65987099031%7C65987100031%7C65987101031%7C65987102031%7C65987104031%7C65987105031&rnid=65987095031&s=computers&sr=1-11', '/LG-24-inch-Monitor-Freesync-Borderless/dp/B08J5Y9ZSV/ref=sr_1_12?dib=eyJ2IjoiMSJ9.v_fUT26kBycx3v5jOpt6pF6ywa_5X82yb29qWCtwIUPKBHg78bDztW_Y-vKNxvpkRbffusktysmI_eYN7ycRdYIfQNu_-W7aEILW-E7DF9Ypn3JGxMymSX2W_AVuOApw8p-cbEvkrAm2WVITL73m7TCRgdlbT8tobqBmVkZxuzZ7XSLYgyBF6GNc0DDhZF6nvUb5uHEX_wm_QI-KjzFcnmDKGLrc9Wos9jnZaZqnyOwGT0_BitC-4JvYhPgMBfzrBPMOrtgKMXm3VO2L1CqsBHBXPNCBRzKLi5w8Yo0GHyA.MIo2gmHGTqlwXGp3dBcFLFBLZVczPS458PZ7JwqW-8o&dib_tag=se&qid=1714050441&refinements=p_n_feature_twenty-one_browse-bin%3A65987097031%7C65987099031%7C65987100031%7C65987101031%7C65987102031%7C65987104031%7C65987105031&rnid=65987095031&s=computers&sr=1-12', '/sspa/click?ie=UTF8&spc=MToxOTgwOTAxNDc1NTQzMTE1OjE3MTQwNTA0NDE6c3BfbXRmX2Jyb3dzZTozMDAxMzUzODk3OTg2MzI6OjA6Og&url=%2FBenQ-GW2490-Bezel-less-Brightness-Intelligence%2Fdp%2FB0CQ2VKBMH%2Fref%3Dsr_1_13_sspa%3Fdib%3DeyJ2IjoiMSJ9.v_fUT26kBycx3v5jOpt6pF6ywa_5X82yb29qWCtwIUPKBHg78bDztW_Y-vKNxvpkRbffusktysmI_eYN7ycRdYIfQNu_-W7aEILW-E7DF9Ypn3JGxMymSX2W_AVuOApw8p-cbEvkrAm2WVITL73m7TCRgdlbT8tobqBmVkZxuzZ7XSLYgyBF6GNc0DDhZF6nvUb5uHEX_wm_QI-KjzFcnmDKGLrc9Wos9jnZaZqnyOwGT0_BitC-4JvYhPgMBfzrBPMOrtgKMXm3VO2L1CqsBHBXPNCBRzKLi5w8Yo0GHyA.MIo2gmHGTqlwXGp3dBcFLFBLZVczPS458PZ7JwqW-8o%26dib_tag%3Dse%26qid%3D1714050441%26refinements%3Dp_n_feature_twenty-one_browse-bin%253A65987097031%257C65987099031%257C65987100031%257C65987101031%257C65987102031%257C65987104031%257C65987105031%26rnid%3D65987095031%26s%3Dcomputers%26sr%3D1-13-spons%26sp_csd%3Dd2lkZ2V0TmFtZT1zcF9tdGZfYnJvd3Nl%26psc%3D1', '/sspa/click?ie=UTF8&spc=MToxOTgwOTAxNDc1NTQzMTE1OjE3MTQwNTA0NDE6c3BfbXRmX2Jyb3dzZToyMDA2MjkzMzA3Nzg5ODo6MDo6&url=%2FZEBRONICS-Zeb-V16HD-LED-Supporting-mountable%2Fdp%2FB0B4GD3TDV%2Fref%3Dsr_1_14_sspa%3Fdib%3DeyJ2IjoiMSJ9.v_fUT26kBycx3v5jOpt6pF6ywa_5X82yb29qWCtwIUPKBHg78bDztW_Y-vKNxvpkRbffusktysmI_eYN7ycRdYIfQNu_-W7aEILW-E7DF9Ypn3JGxMymSX2W_AVuOApw8p-cbEvkrAm2WVITL73m7TCRgdlbT8tobqBmVkZxuzZ7XSLYgyBF6GNc0DDhZF6nvUb5uHEX_wm_QI-KjzFcnmDKGLrc9Wos9jnZaZqnyOwGT0_BitC-4JvYhPgMBfzrBPMOrtgKMXm3VO2L1CqsBHBXPNCBRzKLi5w8Yo0GHyA.MIo2gmHGTqlwXGp3dBcFLFBLZVczPS458PZ7JwqW-8o%26dib_tag%3Dse%26qid%3D1714050441%26refinements%3Dp_n_feature_twenty-one_browse-bin%253A65987097031%257C65987099031%257C65987100031%257C65987101031%257C65987102031%257C65987104031%257C65987105031%26rnid%3D65987095031%26s%3Dcomputers%26sr%3D1-14-spons%26sp_csd%3Dd2lkZ2V0TmFtZT1zcF9tdGZfYnJvd3Nl%26psc%3D1', '/sspa/click?ie=UTF8&spc=MToxOTgwOTAxNDc1NTQzMTE1OjE3MTQwNTA0NDE6c3BfbXRmX2Jyb3dzZTozMDAwMTgwMTQ2MDExMzI6OjA6Og&url=%2FZEBRONICS-Monitor-Support-Speakers-ZEB-S22A%2Fdp%2FB0C1T2YW8P%2Fref%3Dsr_1_15_sspa%3Fdib%3DeyJ2IjoiMSJ9.v_fUT26kBycx3v5jOpt6pF6ywa_5X82yb29qWCtwIUPKBHg78bDztW_Y-vKNxvpkRbffusktysmI_eYN7ycRdYIfQNu_-W7aEILW-E7DF9Ypn3JGxMymSX2W_AVuOApw8p-cbEvkrAm2WVITL73m7TCRgdlbT8tobqBmVkZxuzZ7XSLYgyBF6GNc0DDhZF6nvUb5uHEX_wm_QI-KjzFcnmDKGLrc9Wos9jnZaZqnyOwGT0_BitC-4JvYhPgMBfzrBPMOrtgKMXm3VO2L1CqsBHBXPNCBRzKLi5w8Yo0GHyA.MIo2gmHGTqlwXGp3dBcFLFBLZVczPS458PZ7JwqW-8o%26dib_tag%3Dse%26qid%3D1714050441%26refinements%3Dp_n_feature_twenty-one_browse-bin%253A65987097031%257C65987099031%257C65987100031%257C65987101031%257C65987102031%257C65987104031%257C65987105031%26rnid%3D65987095031%26s%3Dcomputers%26sr%3D1-15-spons%26sp_csd%3Dd2lkZ2V0TmFtZT1zcF9tdGZfYnJvd3Nl%26psc%3D1', '/Zebronics-1920x1080-Resolution-Facility-Brightness/dp/B09XK4GCY1/ref=sr_1_16?dib=eyJ2IjoiMSJ9.v_fUT26kBycx3v5jOpt6pF6ywa_5X82yb29qWCtwIUPKBHg78bDztW_Y-vKNxvpkRbffusktysmI_eYN7ycRdYIfQNu_-W7aEILW-E7DF9Ypn3JGxMymSX2W_AVuOApw8p-cbEvkrAm2WVITL73m7TCRgdlbT8tobqBmVkZxuzZ7XSLYgyBF6GNc0DDhZF6nvUb5uHEX_wm_QI-KjzFcnmDKGLrc9Wos9jnZaZqnyOwGT0_BitC-4JvYhPgMBfzrBPMOrtgKMXm3VO2L1CqsBHBXPNCBRzKLi5w8Yo0GHyA.MIo2gmHGTqlwXGp3dBcFLFBLZVczPS458PZ7JwqW-8o&dib_tag=se&qid=1714050441&refinements=p_n_feature_twenty-one_browse-bin%3A65987097031%7C65987099031%7C65987100031%7C65987101031%7C65987102031%7C65987104031%7C65987105031&rnid=65987095031&s=computers&sr=1-16', '/Dell-Professional-inch-Full-Monitor/dp/B096T36G8L/ref=sr_1_17?dib=eyJ2IjoiMSJ9.v_fUT26kBycx3v5jOpt6pF6ywa_5X82yb29qWCtwIUPKBHg78bDztW_Y-vKNxvpkRbffusktysmI_eYN7ycRdYIfQNu_-W7aEILW-E7DF9Ypn3JGxMymSX2W_AVuOApw8p-cbEvkrAm2WVITL73m7TCRgdlbT8tobqBmVkZxuzZ7XSLYgyBF6GNc0DDhZF6nvUb5uHEX_wm_QI-KjzFcnmDKGLrc9Wos9jnZaZqnyOwGT0_BitC-4JvYhPgMBfzrBPMOrtgKMXm3VO2L1CqsBHBXPNCBRzKLi5w8Yo0GHyA.MIo2gmHGTqlwXGp3dBcFLFBLZVczPS458PZ7JwqW-8o&dib_tag=se&qid=1714050441&refinements=p_n_feature_twenty-one_browse-bin%3A65987097031%7C65987099031%7C65987100031%7C65987101031%7C65987102031%7C65987104031%7C65987105031&rnid=65987095031&s=computers&sr=1-17', '/MSI-Mp223-21-45-Office-Monitor/dp/B0CD31LQXX/ref=sr_1_18?dib=eyJ2IjoiMSJ9.v_fUT26kBycx3v5jOpt6pF6ywa_5X82yb29qWCtwIUPKBHg78bDztW_Y-vKNxvpkRbffusktysmI_eYN7ycRdYIfQNu_-W7aEILW-E7DF9Ypn3JGxMymSX2W_AVuOApw8p-cbEvkrAm2WVITL73m7TCRgdlbT8tobqBmVkZxuzZ7XSLYgyBF6GNc0DDhZF6nvUb5uHEX_wm_QI-KjzFcnmDKGLrc9Wos9jnZaZqnyOwGT0_BitC-4JvYhPgMBfzrBPMOrtgKMXm3VO2L1CqsBHBXPNCBRzKLi5w8Yo0GHyA.MIo2gmHGTqlwXGp3dBcFLFBLZVczPS458PZ7JwqW-8o&dib_tag=se&qid=1714050441&refinements=p_n_feature_twenty-one_browse-bin%3A65987097031%7C65987099031%7C65987100031%7C65987101031%7C65987102031%7C65987104031%7C65987105031&rnid=65987095031&s=computers&sr=1-18', '/Dell-S2721HNM-Monitor-Minimalistic-Design-Brightness/dp/B09XR7CGY1/ref=sr_1_19?dib=eyJ2IjoiMSJ9.v_fUT26kBycx3v5jOpt6pF6ywa_5X82yb29qWCtwIUPKBHg78bDztW_Y-vKNxvpkRbffusktysmI_eYN7ycRdYIfQNu_-W7aEILW-E7DF9Ypn3JGxMymSX2W_AVuOApw8p-cbEvkrAm2WVITL73m7TCRgdlbT8tobqBmVkZxuzZ7XSLYgyBF6GNc0DDhZF6nvUb5uHEX_wm_QI-KjzFcnmDKGLrc9Wos9jnZaZqnyOwGT0_BitC-4JvYhPgMBfzrBPMOrtgKMXm3VO2L1CqsBHBXPNCBRzKLi5w8Yo0GHyA.MIo2gmHGTqlwXGp3dBcFLFBLZVczPS458PZ7JwqW-8o&dib_tag=se&qid=1714050441&refinements=p_n_feature_twenty-one_browse-bin%3A65987097031%7C65987099031%7C65987100031%7C65987101031%7C65987102031%7C65987104031%7C65987105031&rnid=65987095031&s=computers&sr=1-19', '/HP-M27f-Micro-Edge-Monitor-FHD/dp/B095362K3K/ref=sr_1_20?dib=eyJ2IjoiMSJ9.v_fUT26kBycx3v5jOpt6pF6ywa_5X82yb29qWCtwIUPKBHg78bDztW_Y-vKNxvpkRbffusktysmI_eYN7ycRdYIfQNu_-W7aEILW-E7DF9Ypn3JGxMymSX2W_AVuOApw8p-cbEvkrAm2WVITL73m7TCRgdlbT8tobqBmVkZxuzZ7XSLYgyBF6GNc0DDhZF6nvUb5uHEX_wm_QI-KjzFcnmDKGLrc9Wos9jnZaZqnyOwGT0_BitC-4JvYhPgMBfzrBPMOrtgKMXm3VO2L1CqsBHBXPNCBRzKLi5w8Yo0GHyA.MIo2gmHGTqlwXGp3dBcFLFBLZVczPS458PZ7JwqW-8o&dib_tag=se&qid=1714050441&refinements=p_n_feature_twenty-one_browse-bin%3A65987097031%7C65987099031%7C65987100031%7C65987101031%7C65987102031%7C65987104031%7C65987105031&rnid=65987095031&s=computers&sr=1-20', '/LG-FreeSync-Stabilizer-Borderless-OnScreen/dp/B0CPPWT3F7/ref=sr_1_21?dib=eyJ2IjoiMSJ9.v_fUT26kBycx3v5jOpt6pF6ywa_5X82yb29qWCtwIUPKBHg78bDztW_Y-vKNxvpkRbffusktysmI_eYN7ycRdYIfQNu_-W7aEILW-E7DF9Ypn3JGxMymSX2W_AVuOApw8p-cbEvkrAm2WVITL73m7TCRgdlbT8tobqBmVkZxuzZ7XSLYgyBF6GNc0DDhZF6nvUb5uHEX_wm_QI-KjzFcnmDKGLrc9Wos9jnZaZqnyOwGT0_BitC-4JvYhPgMBfzrBPMOrtgKMXm3VO2L1CqsBHBXPNCBRzKLi5w8Yo0GHyA.MIo2gmHGTqlwXGp3dBcFLFBLZVczPS458PZ7JwqW-8o&dib_tag=se&qid=1714050441&refinements=p_n_feature_twenty-one_browse-bin%3A65987097031%7C65987099031%7C65987100031%7C65987101031%7C65987102031%7C65987104031%7C65987105031&rnid=65987095031&s=computers&sr=1-21', '/LG-UltraGearTM-Monitor-Display-Gameplay/dp/B0C8MVVCQN/ref=sr_1_22?dib=eyJ2IjoiMSJ9.v_fUT26kBycx3v5jOpt6pF6ywa_5X82yb29qWCtwIUPKBHg78bDztW_Y-vKNxvpkRbffusktysmI_eYN7ycRdYIfQNu_-W7aEILW-E7DF9Ypn3JGxMymSX2W_AVuOApw8p-cbEvkrAm2WVITL73m7TCRgdlbT8tobqBmVkZxuzZ7XSLYgyBF6GNc0DDhZF6nvUb5uHEX_wm_QI-KjzFcnmDKGLrc9Wos9jnZaZqnyOwGT0_BitC-4JvYhPgMBfzrBPMOrtgKMXm3VO2L1CqsBHBXPNCBRzKLi5w8Yo0GHyA.MIo2gmHGTqlwXGp3dBcFLFBLZVczPS458PZ7JwqW-8o&dib_tag=se&qid=1714050441&refinements=p_n_feature_twenty-one_browse-bin%3A65987097031%7C65987099031%7C65987100031%7C65987101031%7C65987102031%7C65987104031%7C65987105031&rnid=65987095031&s=computers&sr=1-22', '/Lenovo-Ultraslim-FreeSync-Speakers-Customization/dp/B0CLCSSN87/ref=sr_1_23?dib=eyJ2IjoiMSJ9.v_fUT26kBycx3v5jOpt6pF6ywa_5X82yb29qWCtwIUPKBHg78bDztW_Y-vKNxvpkRbffusktysmI_eYN7ycRdYIfQNu_-W7aEILW-E7DF9Ypn3JGxMymSX2W_AVuOApw8p-cbEvkrAm2WVITL73m7TCRgdlbT8tobqBmVkZxuzZ7XSLYgyBF6GNc0DDhZF6nvUb5uHEX_wm_QI-KjzFcnmDKGLrc9Wos9jnZaZqnyOwGT0_BitC-4JvYhPgMBfzrBPMOrtgKMXm3VO2L1CqsBHBXPNCBRzKLi5w8Yo0GHyA.MIo2gmHGTqlwXGp3dBcFLFBLZVczPS458PZ7JwqW-8o&dib_tag=se&qid=1714050441&refinements=p_n_feature_twenty-one_browse-bin%3A65987097031%7C65987099031%7C65987100031%7C65987101031%7C65987102031%7C65987104031%7C65987105031&rnid=65987095031&s=computers&sr=1-23', '/LG-Ultragear-32Gn650-Compatible-Freesync/dp/B09YDJ75SH/ref=sr_1_24?dib=eyJ2IjoiMSJ9.v_fUT26kBycx3v5jOpt6pF6ywa_5X82yb29qWCtwIUPKBHg78bDztW_Y-vKNxvpkRbffusktysmI_eYN7ycRdYIfQNu_-W7aEILW-E7DF9Ypn3JGxMymSX2W_AVuOApw8p-cbEvkrAm2WVITL73m7TCRgdlbT8tobqBmVkZxuzZ7XSLYgyBF6GNc0DDhZF6nvUb5uHEX_wm_QI-KjzFcnmDKGLrc9Wos9jnZaZqnyOwGT0_BitC-4JvYhPgMBfzrBPMOrtgKMXm3VO2L1CqsBHBXPNCBRzKLi5w8Yo0GHyA.MIo2gmHGTqlwXGp3dBcFLFBLZVczPS458PZ7JwqW-8o&dib_tag=se&qid=1714050441&refinements=p_n_feature_twenty-one_browse-bin%3A65987097031%7C65987099031%7C65987100031%7C65987101031%7C65987102031%7C65987104031%7C65987105031&rnid=65987095031&s=computers&sr=1-24', '/ZEBRONICS-Monitor-60-96cm-Mountable-Speakers/dp/B09X3C3JXP/ref=sr_1_25?dib=eyJ2IjoiMSJ9.v_fUT26kBycx3v5jOpt6pF6ywa_5X82yb29qWCtwIUPKBHg78bDztW_Y-vKNxvpkRbffusktysmI_eYN7ycRdYIfQNu_-W7aEILW-E7DF9Ypn3JGxMymSX2W_AVuOApw8p-cbEvkrAm2WVITL73m7TCRgdlbT8tobqBmVkZxuzZ7XSLYgyBF6GNc0DDhZF6nvUb5uHEX_wm_QI-KjzFcnmDKGLrc9Wos9jnZaZqnyOwGT0_BitC-4JvYhPgMBfzrBPMOrtgKMXm3VO2L1CqsBHBXPNCBRzKLi5w8Yo0GHyA.MIo2gmHGTqlwXGp3dBcFLFBLZVczPS458PZ7JwqW-8o&dib_tag=se&qid=1714050441&refinements=p_n_feature_twenty-one_browse-bin%3A65987097031%7C65987099031%7C65987100031%7C65987101031%7C65987102031%7C65987104031%7C65987105031&rnid=65987095031&s=computers&sr=1-25', '/Samsung-3-Sided-Bezel-Less-Monitor-LC27R500FHWXXL/dp/B09C2JSMFB/ref=sr_1_26?dib=eyJ2IjoiMSJ9.v_fUT26kBycx3v5jOpt6pF6ywa_5X82yb29qWCtwIUPKBHg78bDztW_Y-vKNxvpkRbffusktysmI_eYN7ycRdYIfQNu_-W7aEILW-E7DF9Ypn3JGxMymSX2W_AVuOApw8p-cbEvkrAm2WVITL73m7TCRgdlbT8tobqBmVkZxuzZ7XSLYgyBF6GNc0DDhZF6nvUb5uHEX_wm_QI-KjzFcnmDKGLrc9Wos9jnZaZqnyOwGT0_BitC-4JvYhPgMBfzrBPMOrtgKMXm3VO2L1CqsBHBXPNCBRzKLi5w8Yo0GHyA.MIo2gmHGTqlwXGp3dBcFLFBLZVczPS458PZ7JwqW-8o&dib_tag=se&qid=1714050441&refinements=p_n_feature_twenty-one_browse-bin%3A65987097031%7C65987099031%7C65987100031%7C65987101031%7C65987102031%7C65987104031%7C65987105031&rnid=65987095031&s=computers&sr=1-26', '/LG-Ultragear-Compatible-Monitor-27GL650F/dp/B09GW8JFCQ/ref=sr_1_27?dib=eyJ2IjoiMSJ9.v_fUT26kBycx3v5jOpt6pF6ywa_5X82yb29qWCtwIUPKBHg78bDztW_Y-vKNxvpkRbffusktysmI_eYN7ycRdYIfQNu_-W7aEILW-E7DF9Ypn3JGxMymSX2W_AVuOApw8p-cbEvkrAm2WVITL73m7TCRgdlbT8tobqBmVkZxuzZ7XSLYgyBF6GNc0DDhZF6nvUb5uHEX_wm_QI-KjzFcnmDKGLrc9Wos9jnZaZqnyOwGT0_BitC-4JvYhPgMBfzrBPMOrtgKMXm3VO2L1CqsBHBXPNCBRzKLi5w8Yo0GHyA.MIo2gmHGTqlwXGp3dBcFLFBLZVczPS458PZ7JwqW-8o&dib_tag=se&qid=1714050441&refinements=p_n_feature_twenty-one_browse-bin%3A65987097031%7C65987099031%7C65987100031%7C65987101031%7C65987102031%7C65987104031%7C65987105031&rnid=65987095031&s=computers&sr=1-27', '/LG-UltraWide-2560x1080-Calibrated-Color-29WQ600/dp/B0BRQVQJW2/ref=sr_1_28?dib=eyJ2IjoiMSJ9.v_fUT26kBycx3v5jOpt6pF6ywa_5X82yb29qWCtwIUPKBHg78bDztW_Y-vKNxvpkRbffusktysmI_eYN7ycRdYIfQNu_-W7aEILW-E7DF9Ypn3JGxMymSX2W_AVuOApw8p-cbEvkrAm2WVITL73m7TCRgdlbT8tobqBmVkZxuzZ7XSLYgyBF6GNc0DDhZF6nvUb5uHEX_wm_QI-KjzFcnmDKGLrc9Wos9jnZaZqnyOwGT0_BitC-4JvYhPgMBfzrBPMOrtgKMXm3VO2L1CqsBHBXPNCBRzKLi5w8Yo0GHyA.MIo2gmHGTqlwXGp3dBcFLFBLZVczPS458PZ7JwqW-8o&dib_tag=se&qid=1714050441&refinements=p_n_feature_twenty-one_browse-bin%3A65987097031%7C65987099031%7C65987100031%7C65987101031%7C65987102031%7C65987104031%7C65987105031&rnid=65987095031&s=computers&sr=1-28', '/Lenovo-Adjustment-Speakers-Customization-Certified/dp/B0B4SVJNRW/ref=sr_1_29?dib=eyJ2IjoiMSJ9.v_fUT26kBycx3v5jOpt6pF6ywa_5X82yb29qWCtwIUPKBHg78bDztW_Y-vKNxvpkRbffusktysmI_eYN7ycRdYIfQNu_-W7aEILW-E7DF9Ypn3JGxMymSX2W_AVuOApw8p-cbEvkrAm2WVITL73m7TCRgdlbT8tobqBmVkZxuzZ7XSLYgyBF6GNc0DDhZF6nvUb5uHEX_wm_QI-KjzFcnmDKGLrc9Wos9jnZaZqnyOwGT0_BitC-4JvYhPgMBfzrBPMOrtgKMXm3VO2L1CqsBHBXPNCBRzKLi5w8Yo0GHyA.MIo2gmHGTqlwXGp3dBcFLFBLZVczPS458PZ7JwqW-8o&dib_tag=se&qid=1714050441&refinements=p_n_feature_twenty-one_browse-bin%3A65987097031%7C65987099031%7C65987100031%7C65987101031%7C65987102031%7C65987104031%7C65987105031&rnid=65987095031&s=computers&sr=1-29', '/LG-IPS-sRGB-Height-Adjust-Display/dp/B0BRQT57RC/ref=sr_1_30?dib=eyJ2IjoiMSJ9.v_fUT26kBycx3v5jOpt6pF6ywa_5X82yb29qWCtwIUPKBHg78bDztW_Y-vKNxvpkRbffusktysmI_eYN7ycRdYIfQNu_-W7aEILW-E7DF9Ypn3JGxMymSX2W_AVuOApw8p-cbEvkrAm2WVITL73m7TCRgdlbT8tobqBmVkZxuzZ7XSLYgyBF6GNc0DDhZF6nvUb5uHEX_wm_QI-KjzFcnmDKGLrc9Wos9jnZaZqnyOwGT0_BitC-4JvYhPgMBfzrBPMOrtgKMXm3VO2L1CqsBHBXPNCBRzKLi5w8Yo0GHyA.MIo2gmHGTqlwXGp3dBcFLFBLZVczPS458PZ7JwqW-8o&dib_tag=se&qid=1714050441&refinements=p_n_feature_twenty-one_browse-bin%3A65987097031%7C65987099031%7C65987100031%7C65987101031%7C65987102031%7C65987104031%7C65987105031&rnid=65987095031&s=computers&sr=1-30', '/sspa/click?ie=UTF8&spc=MToxOTgwOTAxNDc1NTQzMTE1OjE3MTQwNTA0NDE6c3BfYnRmX2Jyb3dzZToyMDA1Mjk3Mjg1NDE5ODo6MDo6&url=%2FZebronics-1920x1080-Resolution-Facility-Brightness%2Fdp%2FB09XK4GCY1%2Fref%3Dsr_1_31_sspa%3Fdib%3DeyJ2IjoiMSJ9.v_fUT26kBycx3v5jOpt6pF6ywa_5X82yb29qWCtwIUPKBHg78bDztW_Y-vKNxvpkRbffusktysmI_eYN7ycRdYIfQNu_-W7aEILW-E7DF9Ypn3JGxMymSX2W_AVuOApw8p-cbEvkrAm2WVITL73m7TCRgdlbT8tobqBmVkZxuzZ7XSLYgyBF6GNc0DDhZF6nvUb5uHEX_wm_QI-KjzFcnmDKGLrc9Wos9jnZaZqnyOwGT0_BitC-4JvYhPgMBfzrBPMOrtgKMXm3VO2L1CqsBHBXPNCBRzKLi5w8Yo0GHyA.MIo2gmHGTqlwXGp3dBcFLFBLZVczPS458PZ7JwqW-8o%26dib_tag%3Dse%26qid%3D1714050441%26refinements%3Dp_n_feature_twenty-one_browse-bin%253A65987097031%257C65987099031%257C65987100031%257C65987101031%257C65987102031%257C65987104031%257C65987105031%26rnid%3D65987095031%26s%3Dcomputers%26sr%3D1-31-spons%26sp_csd%3Dd2lkZ2V0TmFtZT1zcF9idGZfYnJvd3Nl%26psc%3D1', '/sspa/click?ie=UTF8&spc=MToxOTgwOTAxNDc1NTQzMTE1OjE3MTQwNTA0NDE6c3BfYnRmX2Jyb3dzZToyMDA3MTU1MTEwOTY5ODo6MDo6&url=%2FZEBRONICS-Monitor-60-96cm-Mountable-Speakers%2Fdp%2FB09X3C3JXP%2Fref%3Dsr_1_32_sspa%3Fdib%3DeyJ2IjoiMSJ9.v_fUT26kBycx3v5jOpt6pF6ywa_5X82yb29qWCtwIUPKBHg78bDztW_Y-vKNxvpkRbffusktysmI_eYN7ycRdYIfQNu_-W7aEILW-E7DF9Ypn3JGxMymSX2W_AVuOApw8p-cbEvkrAm2WVITL73m7TCRgdlbT8tobqBmVkZxuzZ7XSLYgyBF6GNc0DDhZF6nvUb5uHEX_wm_QI-KjzFcnmDKGLrc9Wos9jnZaZqnyOwGT0_BitC-4JvYhPgMBfzrBPMOrtgKMXm3VO2L1CqsBHBXPNCBRzKLi5w8Yo0GHyA.MIo2gmHGTqlwXGp3dBcFLFBLZVczPS458PZ7JwqW-8o%26dib_tag%3Dse%26qid%3D1714050441%26refinements%3Dp_n_feature_twenty-one_browse-bin%253A65987097031%257C65987099031%257C65987100031%257C65987101031%257C65987102031%257C65987104031%257C65987105031%26rnid%3D65987095031%26s%3Dcomputers%26sr%3D1-32-spons%26sp_csd%3Dd2lkZ2V0TmFtZT1zcF9idGZfYnJvd3Nl%26psc%3D1']\n"
     ]
    }
   ],
   "source": [
    "links = soup.select(\"div.a-section.a-spacing-base\")\n",
    "for link in links:\n",
    "    anchor_elements = link.select_one('a.a-link-normal.s-underline-text.s-underline-link-text.s-link-style.a-text-normal')\n",
    "    href=anchor_elements.get(\"href\") # type: ignore\n",
    "    link_list.append(href)\n"
   ]
  },
  {
   "cell_type": "code",
   "execution_count": 22,
   "metadata": {},
   "outputs": [],
   "source": [
    "page_num_extract = soup.select(\"span.s-pagination-item.s-pagination-disabled\")\n",
    "page_numbers = [num.get_text() for num in page_num_extract[1:]]"
   ]
  },
  {
   "cell_type": "code",
   "execution_count": 23,
   "metadata": {},
   "outputs": [
    {
     "name": "stderr",
     "output_type": "stream",
     "text": [
      "  0%|          | 0/29 [00:00<?, ?it/s]"
     ]
    },
    {
     "name": "stderr",
     "output_type": "stream",
     "text": [
      "100%|██████████| 29/29 [00:45<00:00,  1.55s/it]\n"
     ]
    }
   ],
   "source": [
    "final_num = page_numbers[0]\n",
    "for page in tqdm(range(2, int(final_num) + 1)):\n",
    "    URL = f\"https://www.amazon.in/s?i=computers&rh=n%3A1375425031%2Cp_n_feature_twenty-one_browse-bin%3A65987097031%7C65987099031%7C65987100031%7C65987101031%7C65987102031%7C65987104031%7C65987105031&dc&fs=true&page={page}&qid=1713963328&rnid=65987095031&ref=sr_pg_{page}\"\n",
    "\n",
    "    response = requests.get(URL, headers = my_header)\n",
    "    soup = BeautifulSoup(response.text, 'html.parser')\n",
    "    \n",
    "    product_name = soup.find_all(class_=\"a-size-base-plus\")\n",
    "    for name in product_name:\n",
    "        product_name_list.append(name.get_text())\n",
    "\n",
    "    product_price = soup.select(\"div.a-section.a-spacing-base\")\n",
    "    for item_price in product_price:\n",
    "        span = item_price.select_one(\"span.a-price-whole\")\n",
    "        if span is None:\n",
    "            product_price_list.append('Does not exist')\n",
    "        else:\n",
    "            product_price_list.append(span.get_text())\n",
    "\n",
    "    mrp_price = soup.select(\"div.a-section.a-spacing-base\")\n",
    "    for price in mrp_price: \n",
    "        span = price.select_one(\"div.a-section.aok-inline-block\")\n",
    "        if span is None:\n",
    "            product_mrp_price_list.append('Does not exist')\n",
    "        else:\n",
    "            product_mrp_price_list.append(span.get_text())\n",
    "\n",
    "    review_count = soup.select(\"div.a-section.a-spacing-base\")\n",
    "    for count in review_count:\n",
    "        span = count.select_one(\"span.a-size-base.s-underline-text\")\n",
    "        if span is None:\n",
    "            review_count_list.append('Does not exist')\n",
    "        else:\n",
    "            review_count_list.append(span.get_text())\n",
    "\n",
    "    ratings = soup.select(\"div.a-section.a-spacing-base\")\n",
    "    for rating in ratings:\n",
    "        span = rating.select_one(\"span.a-icon-alt\")\n",
    "        if span is None:\n",
    "            ratings_list.append('Does not exist')\n",
    "        elif span.get_text() != '4 Stars & Up' and span.get_text() != '3 Stars & Up' and span.get_text() != '2 Stars & Up' and span.get_text() != '1 Star & Up':\n",
    "            ratings_list.append(span.get_text())\n",
    "\n",
    "    links = soup.select(\"div.a-section.a-spacing-base\")\n",
    "    for link in links:\n",
    "        anchor_elements = link.select_one('a.a-link-normal.s-underline-text.s-underline-link-text.s-link-style.a-text-normal')\n",
    "        href=anchor_elements.get(\"href\") # type: ignore\n",
    "        link_list.append(href)"
   ]
  },
  {
   "cell_type": "code",
   "execution_count": 24,
   "metadata": {},
   "outputs": [],
   "source": [
    "resolution_list = []\n",
    "screen_size_list = []\n",
    "brand_list = []\n",
    "refresh_rate_list = []\n",
    "monitor_category_list = []\n",
    "item_model_list = []"
   ]
  },
  {
   "cell_type": "code",
   "execution_count": 25,
   "metadata": {},
   "outputs": [
    {
     "name": "stderr",
     "output_type": "stream",
     "text": [
      "100%|██████████| 907/907 [1:09:20<00:00,  4.59s/it]\n"
     ]
    }
   ],
   "source": [
    "from selenium.webdriver.support.ui import WebDriverWait\n",
    "from selenium.webdriver.support import expected_conditions as EC\n",
    "from selenium import webdriver\n",
    "from selenium.webdriver.common.by import By\n",
    "driver = webdriver.Edge()\n",
    "wait = WebDriverWait(driver, 10)\n",
    "for i in tqdm(link_list):\n",
    "    driver.get(f'https://www.amazon.in/{i}')\n",
    "    \n",
    "    # Get resolution\n",
    "    try:\n",
    "        resolution_element = wait.until(EC.presence_of_element_located((By.XPATH, '//*[@id=\"productOverview_feature_div\"]/div/table')))\n",
    "        resolution = next((line for line in resolution_element.text.split('\\n') if 'Display Resolution Maximum' in line), None)\n",
    "        resolution_list.append(resolution if resolution else 'None')\n",
    "    except:\n",
    "        resolution_list.append('None')\n",
    "\n",
    "    # Get screen size\n",
    "    try:\n",
    "        screen_size_element = wait.until(EC.presence_of_element_located((By.XPATH, '//*[@id=\"productOverview_feature_div\"]/div/table')))\n",
    "        screen_size = next((line for line in screen_size_element.text.split('\\n') if 'Screen Size' in line), None)\n",
    "        screen_size_list.append(screen_size if screen_size else 'None')\n",
    "    except:\n",
    "        screen_size_list.append('None')  \n",
    "\n",
    "    # Get brand\n",
    "    try:\n",
    "        brand_element = wait.until(EC.presence_of_element_located((By.XPATH, '//*[@id=\"productOverview_feature_div\"]/div/table')))\n",
    "        brand = next((line for line in brand_element.text.split('\\n') if 'Brand' in line), None)\n",
    "        brand_list.append(brand if brand else 'None')\n",
    "    except:\n",
    "        brand_list.append('None') \n",
    "\n",
    "    # Get refresh rate\n",
    "    try:\n",
    "        refresh_rate_element = wait.until(EC.presence_of_element_located((By.XPATH, '//*[@id=\"productOverview_feature_div\"]/div/table')))\n",
    "        refresh_rate = next((line for line in refresh_rate_element.text.split('\\n') if 'Refresh Rate' in line), None)\n",
    "        refresh_rate_list.append(refresh_rate if refresh_rate else 'None')\n",
    "    except:\n",
    "        refresh_rate_list.append('None') \n",
    "\n",
    "    # Get monitor category\n",
    "    try:\n",
    "        monitor_category_element = wait.until(EC.presence_of_element_located((By.XPATH, '//*[@id=\"prodDetails\"]/div/div[2]')))\n",
    "        generic_name = next((line for line in monitor_category_element.text.split('\\n') if 'Generic Name' in line), None)\n",
    "        monitor_category_list.append(generic_name if generic_name else 'None')\n",
    "    except:\n",
    "        monitor_category_list.append('None')\n",
    "\n",
    "    # Get item model\n",
    "    try:\n",
    "        item_model_element = wait.until(EC.presence_of_element_located((By.XPATH, '//*[@id=\"productDetails_techSpec_section_1\"]')))\n",
    "        item_model_number = next((line for line in item_model_element.text.split('\\n') if 'Item model number' in line), None)\n",
    "        item_model_list.append(item_model_number if item_model_number else 'None')\n",
    "    except:\n",
    "        item_model_list.append('None')\n",
    "\n",
    "driver.quit()"
   ]
  },
  {
   "cell_type": "code",
   "execution_count": null,
   "metadata": {},
   "outputs": [],
   "source": [
    "df = pd.DataFrame({'Product_Name': product_name_list, 'Product_Price': product_price_list, 'Product_MRP_Price': product_mrp_price_list,\n",
    "                  'Ratings': ratings_list, 'Review_Count': review_count_list, 'Screen Resolution': resolution_list, 'Screen_Size': screen_size_list, 'Brand_Name': brand_list, 'Refresh_Rate': refresh_rate_list,  'Monitor_Category': monitor_category_list, 'Model_Number': item_model_list})\n",
    "df.to_csv('E:\\GitHub\\Python STUFF\\Data Analyst\\Portfolio-Projects\\Python\\AmazonWebScrapData_ComputerMonitors.csv',\n",
    "          sep=',', index=False, encoding='utf-8')"
   ]
  }
 ],
 "metadata": {
  "kernelspec": {
   "display_name": "base",
   "language": "python",
   "name": "python3"
  },
  "language_info": {
   "codemirror_mode": {
    "name": "ipython",
    "version": 3
   },
   "file_extension": ".py",
   "mimetype": "text/x-python",
   "name": "python",
   "nbconvert_exporter": "python",
   "pygments_lexer": "ipython3",
   "version": "3.11.7"
  }
 },
 "nbformat": 4,
 "nbformat_minor": 2
}
